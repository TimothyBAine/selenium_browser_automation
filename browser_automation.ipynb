{
 "cells": [
  {
   "cell_type": "code",
   "execution_count": 1,
   "id": "aa1f8beb",
   "metadata": {},
   "outputs": [],
   "source": [
    "from selenium import webdriver\n",
    "from selenium.webdriver.common.by import By\n",
    "from selenium.webdriver.support.ui import Select\n",
    "from selenium.webdriver.common.action_chains import ActionChains\n",
    "from webdriver_manager.chrome import ChromeDriverManager\n",
    "import time\n",
    "import pandas as pd\n",
    "from bs4 import BeautifulSoup\n",
    "import requests"
   ]
  },
  {
   "cell_type": "markdown",
   "id": "be2730b5",
   "metadata": {},
   "source": [
    "### Browser Automation with Selenium\n",
    "##### Amazon"
   ]
  },
  {
   "cell_type": "code",
   "execution_count": 2,
   "id": "5cd5afdb",
   "metadata": {},
   "outputs": [
    {
     "name": "stdout",
     "output_type": "stream",
     "text": [
      "\n"
     ]
    },
    {
     "name": "stderr",
     "output_type": "stream",
     "text": [
      "C:\\Users\\ainet\\AppData\\Local\\Temp\\ipykernel_12756\\2562967622.py:2: DeprecationWarning: executable_path has been deprecated, please pass in a Service object\n",
      "  driver = webdriver.Chrome(ChromeDriverManager().install())\n"
     ]
    }
   ],
   "source": [
    "url_amz = \"https://www.amazon.com/\"\n",
    "driver = webdriver.Chrome(ChromeDriverManager().install())\n",
    "driver.get(url_amz)"
   ]
  },
  {
   "cell_type": "code",
   "execution_count": 3,
   "id": "7005c41f",
   "metadata": {
    "collapsed": true
   },
   "outputs": [
    {
     "ename": "NoSuchElementException",
     "evalue": "Message: no such element: Unable to locate element: {\"method\":\"css selector\",\"selector\":\"[name=\"submit.add-to-cart\"]\"}\n  (Session info: chrome=106.0.5249.119)\nStacktrace:\nBacktrace:\n\tOrdinal0 [0x00F61ED3+2236115]\n\tOrdinal0 [0x00EF92F1+1807089]\n\tOrdinal0 [0x00E066FD+812797]\n\tOrdinal0 [0x00E355DF+1005023]\n\tOrdinal0 [0x00E357CB+1005515]\n\tOrdinal0 [0x00E67632+1209906]\n\tOrdinal0 [0x00E51AD4+1120980]\n\tOrdinal0 [0x00E659E2+1202658]\n\tOrdinal0 [0x00E518A6+1120422]\n\tOrdinal0 [0x00E2A73D+960317]\n\tOrdinal0 [0x00E2B71F+964383]\n\tGetHandleVerifier [0x0120E7E2+2743074]\n\tGetHandleVerifier [0x012008D4+2685972]\n\tGetHandleVerifier [0x00FF2BAA+532202]\n\tGetHandleVerifier [0x00FF1990+527568]\n\tOrdinal0 [0x00F0080C+1837068]\n\tOrdinal0 [0x00F04CD8+1854680]\n\tOrdinal0 [0x00F04DC5+1854917]\n\tOrdinal0 [0x00F0ED64+1895780]\n\tBaseThreadInitThunk [0x751E7BA9+25]\n\tRtlInitializeExceptionChain [0x7725BB3B+107]\n\tRtlClearBits [0x7725BABF+191]\n",
     "output_type": "error",
     "traceback": [
      "\u001b[1;31m---------------------------------------------------------------------------\u001b[0m",
      "\u001b[1;31mNoSuchElementException\u001b[0m                    Traceback (most recent call last)",
      "Input \u001b[1;32mIn [3]\u001b[0m, in \u001b[0;36m<cell line: 20>\u001b[1;34m()\u001b[0m\n\u001b[0;32m     17\u001b[0m storage_1tb\u001b[38;5;241m.\u001b[39mclick()\n\u001b[0;32m     19\u001b[0m \u001b[38;5;66;03m# Add item to cart\u001b[39;00m\n\u001b[1;32m---> 20\u001b[0m to_cart \u001b[38;5;241m=\u001b[39m \u001b[43mdriver\u001b[49m\u001b[38;5;241;43m.\u001b[39;49m\u001b[43mfind_element\u001b[49m\u001b[43m(\u001b[49m\u001b[43mBy\u001b[49m\u001b[38;5;241;43m.\u001b[39;49m\u001b[43mNAME\u001b[49m\u001b[43m,\u001b[49m\u001b[43m \u001b[49m\u001b[38;5;124;43m\"\u001b[39;49m\u001b[38;5;124;43msubmit.add-to-cart\u001b[39;49m\u001b[38;5;124;43m\"\u001b[39;49m\u001b[43m)\u001b[49m\n\u001b[0;32m     21\u001b[0m to_cart\u001b[38;5;241m.\u001b[39mclick()\n\u001b[0;32m     22\u001b[0m time\u001b[38;5;241m.\u001b[39msleep(\u001b[38;5;241m20\u001b[39m)\n",
      "File \u001b[1;32m~\\AppData\\Local\\Programs\\Python\\Python310\\lib\\site-packages\\selenium\\webdriver\\remote\\webdriver.py:857\u001b[0m, in \u001b[0;36mWebDriver.find_element\u001b[1;34m(self, by, value)\u001b[0m\n\u001b[0;32m    854\u001b[0m     by \u001b[38;5;241m=\u001b[39m By\u001b[38;5;241m.\u001b[39mCSS_SELECTOR\n\u001b[0;32m    855\u001b[0m     value \u001b[38;5;241m=\u001b[39m \u001b[38;5;124m'\u001b[39m\u001b[38;5;124m[name=\u001b[39m\u001b[38;5;124m\"\u001b[39m\u001b[38;5;132;01m%s\u001b[39;00m\u001b[38;5;124m\"\u001b[39m\u001b[38;5;124m]\u001b[39m\u001b[38;5;124m'\u001b[39m \u001b[38;5;241m%\u001b[39m value\n\u001b[1;32m--> 857\u001b[0m \u001b[38;5;28;01mreturn\u001b[39;00m \u001b[38;5;28;43mself\u001b[39;49m\u001b[38;5;241;43m.\u001b[39;49m\u001b[43mexecute\u001b[49m\u001b[43m(\u001b[49m\u001b[43mCommand\u001b[49m\u001b[38;5;241;43m.\u001b[39;49m\u001b[43mFIND_ELEMENT\u001b[49m\u001b[43m,\u001b[49m\u001b[43m \u001b[49m\u001b[43m{\u001b[49m\n\u001b[0;32m    858\u001b[0m \u001b[43m    \u001b[49m\u001b[38;5;124;43m'\u001b[39;49m\u001b[38;5;124;43musing\u001b[39;49m\u001b[38;5;124;43m'\u001b[39;49m\u001b[43m:\u001b[49m\u001b[43m \u001b[49m\u001b[43mby\u001b[49m\u001b[43m,\u001b[49m\n\u001b[0;32m    859\u001b[0m \u001b[43m    \u001b[49m\u001b[38;5;124;43m'\u001b[39;49m\u001b[38;5;124;43mvalue\u001b[39;49m\u001b[38;5;124;43m'\u001b[39;49m\u001b[43m:\u001b[49m\u001b[43m \u001b[49m\u001b[43mvalue\u001b[49m\u001b[43m}\u001b[49m\u001b[43m)\u001b[49m[\u001b[38;5;124m'\u001b[39m\u001b[38;5;124mvalue\u001b[39m\u001b[38;5;124m'\u001b[39m]\n",
      "File \u001b[1;32m~\\AppData\\Local\\Programs\\Python\\Python310\\lib\\site-packages\\selenium\\webdriver\\remote\\webdriver.py:435\u001b[0m, in \u001b[0;36mWebDriver.execute\u001b[1;34m(self, driver_command, params)\u001b[0m\n\u001b[0;32m    433\u001b[0m response \u001b[38;5;241m=\u001b[39m \u001b[38;5;28mself\u001b[39m\u001b[38;5;241m.\u001b[39mcommand_executor\u001b[38;5;241m.\u001b[39mexecute(driver_command, params)\n\u001b[0;32m    434\u001b[0m \u001b[38;5;28;01mif\u001b[39;00m response:\n\u001b[1;32m--> 435\u001b[0m     \u001b[38;5;28;43mself\u001b[39;49m\u001b[38;5;241;43m.\u001b[39;49m\u001b[43merror_handler\u001b[49m\u001b[38;5;241;43m.\u001b[39;49m\u001b[43mcheck_response\u001b[49m\u001b[43m(\u001b[49m\u001b[43mresponse\u001b[49m\u001b[43m)\u001b[49m\n\u001b[0;32m    436\u001b[0m     response[\u001b[38;5;124m'\u001b[39m\u001b[38;5;124mvalue\u001b[39m\u001b[38;5;124m'\u001b[39m] \u001b[38;5;241m=\u001b[39m \u001b[38;5;28mself\u001b[39m\u001b[38;5;241m.\u001b[39m_unwrap_value(\n\u001b[0;32m    437\u001b[0m         response\u001b[38;5;241m.\u001b[39mget(\u001b[38;5;124m'\u001b[39m\u001b[38;5;124mvalue\u001b[39m\u001b[38;5;124m'\u001b[39m, \u001b[38;5;28;01mNone\u001b[39;00m))\n\u001b[0;32m    438\u001b[0m     \u001b[38;5;28;01mreturn\u001b[39;00m response\n",
      "File \u001b[1;32m~\\AppData\\Local\\Programs\\Python\\Python310\\lib\\site-packages\\selenium\\webdriver\\remote\\errorhandler.py:247\u001b[0m, in \u001b[0;36mErrorHandler.check_response\u001b[1;34m(self, response)\u001b[0m\n\u001b[0;32m    245\u001b[0m         alert_text \u001b[38;5;241m=\u001b[39m value[\u001b[38;5;124m'\u001b[39m\u001b[38;5;124malert\u001b[39m\u001b[38;5;124m'\u001b[39m]\u001b[38;5;241m.\u001b[39mget(\u001b[38;5;124m'\u001b[39m\u001b[38;5;124mtext\u001b[39m\u001b[38;5;124m'\u001b[39m)\n\u001b[0;32m    246\u001b[0m     \u001b[38;5;28;01mraise\u001b[39;00m exception_class(message, screen, stacktrace, alert_text)  \u001b[38;5;66;03m# type: ignore[call-arg]  # mypy is not smart enough here\u001b[39;00m\n\u001b[1;32m--> 247\u001b[0m \u001b[38;5;28;01mraise\u001b[39;00m exception_class(message, screen, stacktrace)\n",
      "\u001b[1;31mNoSuchElementException\u001b[0m: Message: no such element: Unable to locate element: {\"method\":\"css selector\",\"selector\":\"[name=\"submit.add-to-cart\"]\"}\n  (Session info: chrome=106.0.5249.119)\nStacktrace:\nBacktrace:\n\tOrdinal0 [0x00F61ED3+2236115]\n\tOrdinal0 [0x00EF92F1+1807089]\n\tOrdinal0 [0x00E066FD+812797]\n\tOrdinal0 [0x00E355DF+1005023]\n\tOrdinal0 [0x00E357CB+1005515]\n\tOrdinal0 [0x00E67632+1209906]\n\tOrdinal0 [0x00E51AD4+1120980]\n\tOrdinal0 [0x00E659E2+1202658]\n\tOrdinal0 [0x00E518A6+1120422]\n\tOrdinal0 [0x00E2A73D+960317]\n\tOrdinal0 [0x00E2B71F+964383]\n\tGetHandleVerifier [0x0120E7E2+2743074]\n\tGetHandleVerifier [0x012008D4+2685972]\n\tGetHandleVerifier [0x00FF2BAA+532202]\n\tGetHandleVerifier [0x00FF1990+527568]\n\tOrdinal0 [0x00F0080C+1837068]\n\tOrdinal0 [0x00F04CD8+1854680]\n\tOrdinal0 [0x00F04DC5+1854917]\n\tOrdinal0 [0x00F0ED64+1895780]\n\tBaseThreadInitThunk [0x751E7BA9+25]\n\tRtlInitializeExceptionChain [0x7725BB3B+107]\n\tRtlClearBits [0x7725BABF+191]\n"
     ]
    }
   ],
   "source": [
    "# Maximize window\n",
    "driver.maximize_window()\n",
    "\n",
    "item = 'macbook pro'\n",
    "# Item search\n",
    "search = driver.find_element(By.ID,'twotabsearchtextbox')\n",
    "search.send_keys(item+'\\n')\n",
    "\n",
    "# Selecting first item\n",
    "content = driver.find_element(By.CLASS_NAME, 'a-link-normal')\n",
    "content.click()\n",
    "\n",
    "# Setting preferences.\n",
    "ram16gb = driver.find_element(By.XPATH, \"//button[@id='a-autoid-11-announce']\")\n",
    "ram16gb.click()\n",
    "storage_1tb = driver.find_element(By.XPATH, \"//button[@id='a-autoid-13-announce']\")\n",
    "storage_1tb.click()\n",
    "\n",
    "# Add item to cart\n",
    "to_cart = driver.find_element(By.NAME, \"submit.add-to-cart\")\n",
    "to_cart.click()\n",
    "time.sleep(20)\n",
    "driver.quit()"
   ]
  },
  {
   "cell_type": "markdown",
   "id": "28f3964f",
   "metadata": {},
   "source": [
    "##### eBay"
   ]
  },
  {
   "cell_type": "code",
   "execution_count": 4,
   "id": "b55a525d",
   "metadata": {},
   "outputs": [
    {
     "name": "stdout",
     "output_type": "stream",
     "text": [
      "\n"
     ]
    },
    {
     "name": "stderr",
     "output_type": "stream",
     "text": [
      "C:\\Users\\ainet\\AppData\\Local\\Temp\\ipykernel_12756\\384528487.py:3: DeprecationWarning: executable_path has been deprecated, please pass in a Service object\n",
      "  driver = webdriver.Chrome(ChromeDriverManager().install())\n"
     ]
    }
   ],
   "source": [
    "url_ebay = 'https://www.ebay.com/'\n",
    "\n",
    "driver = webdriver.Chrome(ChromeDriverManager().install())\n",
    "driver.get(url_ebay)\n",
    "\n",
    "# Maximize window\n",
    "driver.maximize_window()\n",
    "\n",
    "#item search\n",
    "search = driver.find_element(By.XPATH, '(//input[@type=\"text\"])')\n",
    "search.send_keys(item+'\\n')\n",
    "\n",
    "driver.quit()"
   ]
  },
  {
   "cell_type": "markdown",
   "id": "98bd1701",
   "metadata": {},
   "source": [
    "##### Walmart"
   ]
  },
  {
   "cell_type": "code",
   "execution_count": 6,
   "id": "f1368df4",
   "metadata": {},
   "outputs": [
    {
     "name": "stdout",
     "output_type": "stream",
     "text": [
      "\n"
     ]
    },
    {
     "name": "stderr",
     "output_type": "stream",
     "text": [
      "C:\\Users\\ainet\\AppData\\Local\\Temp\\ipykernel_12756\\896064520.py:3: DeprecationWarning: executable_path has been deprecated, please pass in a Service object\n",
      "  driver = webdriver.Chrome(ChromeDriverManager().install())\n"
     ]
    }
   ],
   "source": [
    "url_wmt = 'https://www.walmart.com/'\n",
    "\n",
    "driver = webdriver.Chrome(ChromeDriverManager().install())\n",
    "driver.get(url_wmt)\n",
    "\n",
    "# Maximize window\n",
    "driver.maximize_window()"
   ]
  },
  {
   "cell_type": "code",
   "execution_count": 7,
   "id": "262871c9",
   "metadata": {},
   "outputs": [
    {
     "data": {
      "text/plain": [
       "<selenium.webdriver.common.action_chains.ActionChains at 0x198cdcfb6d0>"
      ]
     },
     "execution_count": 7,
     "metadata": {},
     "output_type": "execute_result"
    }
   ],
   "source": [
    "# Pass Captcha test\n",
    "time.sleep(3)\n",
    "\n",
    "element = driver.find_element(By.CSS_SELECTOR, '#px-captcha')\n",
    "action = ActionChains(driver)\n",
    "click = ActionChains(driver)\n",
    "action.click_and_hold(element)\n",
    "action.perform()\n",
    "time.sleep(10)\n",
    "action.release(element)\n",
    "action.perform()\n",
    "time.sleep(2)\n",
    "action.release(element)"
   ]
  },
  {
   "cell_type": "code",
   "execution_count": null,
   "id": "6141179e",
   "metadata": {},
   "outputs": [],
   "source": [
    "\"\"\"\n",
    "alert = driver.switch_to.alert\n",
    "captcha = driver.find_element(By.CLASS_NAME,'w_0 w_4 w_6')\n",
    "captcha.click()\n",
    "time.sleep(1)\n",
    "captcha = driver.find_element(By.CLASS_NAME,'recaptcha-checkbox-border')\n",
    "captcha.click()\n",
    "\"\"\""
   ]
  }
 ],
 "metadata": {
  "kernelspec": {
   "display_name": "Python 3 (ipykernel)",
   "language": "python",
   "name": "python3"
  },
  "language_info": {
   "codemirror_mode": {
    "name": "ipython",
    "version": 3
   },
   "file_extension": ".py",
   "mimetype": "text/x-python",
   "name": "python",
   "nbconvert_exporter": "python",
   "pygments_lexer": "ipython3",
   "version": "3.10.5"
  }
 },
 "nbformat": 4,
 "nbformat_minor": 5
}
